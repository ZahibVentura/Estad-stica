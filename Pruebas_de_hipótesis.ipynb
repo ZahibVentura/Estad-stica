{
  "nbformat": 4,
  "nbformat_minor": 0,
  "metadata": {
    "colab": {
      "provenance": [],
      "authorship_tag": "ABX9TyMSt8xmjSexrfDFs7VhDk5f",
      "include_colab_link": true
    },
    "kernelspec": {
      "name": "python3",
      "display_name": "Python 3"
    },
    "language_info": {
      "name": "python"
    }
  },
  "cells": [
    {
      "cell_type": "markdown",
      "metadata": {
        "id": "view-in-github",
        "colab_type": "text"
      },
      "source": [
        "<a href=\"https://colab.research.google.com/github/ZahibVentura/Estad-stica/blob/main/Pruebas_de_hip%C3%B3tesis.ipynb\" target=\"_parent\"><img src=\"https://colab.research.google.com/assets/colab-badge.svg\" alt=\"Open In Colab\"/></a>"
      ]
    },
    {
      "cell_type": "markdown",
      "source": [
        "\n",
        "###Ejercicio 1\n",
        "\n",
        "Un analista afirma que el rendimiento promedio mensual de una acción es superior al 1%. Para probarlo toma una muestra de 12 meses la cual tiene una media de 1.4% y la desviación estándar muestral es de 0.6%. Considerando un nivel de significancia del 5%, realice una prueba de hipótesis y verifique está afirmación."
      ],
      "metadata": {
        "id": "JkJrqVueBlWF"
      }
    },
    {
      "cell_type": "code",
      "source": [
        "import numpy as np\n",
        "from scipy import stats"
      ],
      "metadata": {
        "id": "kCfE7BzMCJPJ"
      },
      "execution_count": 1,
      "outputs": []
    },
    {
      "cell_type": "code",
      "source": [
        "\n",
        "\n",
        "# Parámetro poblacional (Hipótesis nula)\n",
        "mu = 1\n",
        "\n",
        "\n",
        "n = 12\n",
        "s = 0.6\n",
        "x_b = 1.4\n",
        "#S = np.std(salarios, ddof= 1)\n",
        "\n",
        "\n",
        "# Estadístico z\n",
        "z = (x_b - mu)/(s/n**(1/2))\n",
        "\n",
        "\n",
        "df = n - 1\n",
        "# Valor p (prueba bilateral)\n",
        "p_value = 1 * stats.t.sf(np.abs(z), df)\n",
        "\n",
        "# Mostrar resultados\n",
        "print(f\"Media muestral: {x_b:.2f}\")\n",
        "print(f\"Desviación estándar muestral: {s:.2f}\")\n",
        "print(f\"Estadístico z: {z:.4f}\")\n",
        "print(f\"Valor p: {p_value:.4f}\")\n",
        "\n",
        "#Significancia\n",
        "alpha = 0.05\n",
        "\n",
        "# Conclusión\n",
        "if p_value < alpha:\n",
        "    print(\"Se rechaza H0\")\n",
        "else:\n",
        "    print(\"No se rechaza H0\")"
      ],
      "metadata": {
        "colab": {
          "base_uri": "https://localhost:8080/"
        },
        "id": "1LqxX8oIkW33",
        "outputId": "495958b2-a20e-400c-bff1-c45d003f5dd8"
      },
      "execution_count": 2,
      "outputs": [
        {
          "output_type": "stream",
          "name": "stdout",
          "text": [
            "Media muestral: 1.40\n",
            "Desviación estándar muestral: 0.60\n",
            "Estadístico z: 2.3094\n",
            "Valor p: 0.0207\n",
            "Se rechaza H0\n"
          ]
        }
      ]
    },
    {
      "cell_type": "markdown",
      "source": [
        "###Ejercicio 2\n",
        "\n",
        "Un analista quiere verificar si un fondo tiene un rendimiento diferente del promedio de mercado (6%). Se realiza un muestreo de 30 datos los cuales tienen una media muestral de 5.2% y desviación estándar muestral de 1.8% con un nivel de significancia del 5%. Realice una prueba de hipótesis y verifique si se cumple lo que el analista plantea."
      ],
      "metadata": {
        "id": "3rl2S84CB50z"
      }
    },
    {
      "cell_type": "code",
      "source": [
        "\n",
        "\n",
        "# Parámetro poblacional (Hipótesis nula)\n",
        "mu = 0.06\n",
        "\n",
        "\n",
        "n = 30\n",
        "s = 0.018\n",
        "x_b = 0.052\n",
        "#S = np.std(salarios, ddof= 1)\n",
        "\n",
        "\n",
        "# Estadístico z\n",
        "z = (x_b - mu)/(s/n**(1/2))\n",
        "\n",
        "\n",
        "df = n - 1\n",
        "# Valor p (prueba bilateral)\n",
        "p_value = 2 * stats.t.sf(np.abs(z), df)\n",
        "\n",
        "# Mostrar resultados\n",
        "print(f\"Media muestral: {x_b:.2f}\")\n",
        "print(f\"Desviación estándar muestral: {s:.2f}\")\n",
        "print(f\"Estadístico z: {z:.4f}\")\n",
        "print(f\"Valor p: {p_value:.4f}\")\n",
        "\n",
        "#Significancia\n",
        "alpha = 0.05\n",
        "\n",
        "# Conclusión\n",
        "if p_value <= alpha:\n",
        "    print(\"Se rechaza H0\")\n",
        "else:\n",
        "    print(\"No se rechaza H0\")"
      ],
      "metadata": {
        "colab": {
          "base_uri": "https://localhost:8080/"
        },
        "id": "tla1PYXYkyFr",
        "outputId": "5f958e8c-2c84-4feb-ee0d-ff4b9a080a9c"
      },
      "execution_count": 3,
      "outputs": [
        {
          "output_type": "stream",
          "name": "stdout",
          "text": [
            "Media muestral: 0.05\n",
            "Desviación estándar muestral: 0.02\n",
            "Estadístico z: -2.4343\n",
            "Valor p: 0.0213\n",
            "Se rechaza H0\n"
          ]
        }
      ]
    },
    {
      "cell_type": "markdown",
      "source": [
        "\n",
        "###Ejercicio 3\n",
        "\n",
        "Un trader quiere saber si el precio promedio de una acción ha cambiado respecto a su valor original (¢150). Realice una prueba de hipótesis considerando una muestra de 36 datos con una media muestral del ¢147 y un nivel de significancia del 1%. Considere que la desviación estándar poblacional es conocida y vale ¢5."
      ],
      "metadata": {
        "id": "gvCConEUUQAy"
      }
    },
    {
      "cell_type": "markdown",
      "source": [
        "**Hipótesis**"
      ],
      "metadata": {
        "id": "VAqEOS9kVDkX"
      }
    },
    {
      "cell_type": "code",
      "execution_count": 4,
      "metadata": {
        "colab": {
          "base_uri": "https://localhost:8080/"
        },
        "id": "Ehuv9kRRi1s_",
        "outputId": "95b27fc7-88b6-44c5-92ab-14f4fd2eb005"
      },
      "outputs": [
        {
          "output_type": "stream",
          "name": "stdout",
          "text": [
            "Media muestral: 147.00\n",
            "Desviación estándar muestral: 5.00\n",
            "Estadístico z: -3.6000\n",
            "Valor p: 0.0010\n",
            "Se rechaza H0\n"
          ]
        }
      ],
      "source": [
        "\n",
        "\n",
        "# Parámetro poblacional (Hipótesis nula)\n",
        "mu = 150\n",
        "\n",
        "\n",
        "n = 36\n",
        "s = 5\n",
        "x_b = 147\n",
        "#S = np.std(salarios, ddof= 1)\n",
        "\n",
        "\n",
        "# Estadístico z\n",
        "z = (x_b - mu)/(s/n**(1/2))\n",
        "\n",
        "\n",
        "df = n - 1\n",
        "# Valor p (prueba bilateral)\n",
        "p_value = 2 * stats.t.sf(np.abs(z), df)\n",
        "\n",
        "# Mostrar resultados\n",
        "print(f\"Media muestral: {x_b:.2f}\")\n",
        "print(f\"Desviación estándar muestral: {s:.2f}\")\n",
        "print(f\"Estadístico z: {z:.4f}\")\n",
        "print(f\"Valor p: {p_value:.4f}\")\n",
        "\n",
        "#Significancia\n",
        "alpha = 0.01\n",
        "\n",
        "# Conclusión\n",
        "if p_value < alpha:\n",
        "    print(\"Se rechaza H0\")\n",
        "else:\n",
        "    print(\"No se rechaza H0\")"
      ]
    },
    {
      "cell_type": "markdown",
      "source": [
        "###Ejercicio 4\n",
        "\n",
        "Un gestor afirma que su portafolio de inversión supera el rendimiento del índice S&P 500. (Promedio anual 8%).\n",
        "Realice una prueba de hipótesis con una muestra de 25 datos con media igual a 8.9% y desviación estándar muestral de 1.5% y un nivel de significancia de 1%."
      ],
      "metadata": {
        "id": "rvF2jXyfDJjx"
      }
    },
    {
      "cell_type": "code",
      "source": [
        "\n",
        "\n",
        "# Parámetro poblacional (Hipótesis nula)\n",
        "mu = 8\n",
        "\n",
        "\n",
        "n = 25\n",
        "s = 1.5\n",
        "x_b = 8.9\n",
        "#S = np.std(salarios, ddof= 1)\n",
        "\n",
        "\n",
        "# Estadístico z\n",
        "z = (x_b - mu)/(s/n**(1/2))\n",
        "\n",
        "\n",
        "df = n - 1\n",
        "# Valor p (prueba bilateral)\n",
        "p_value = 1 * stats.t.sf(np.abs(z), df)\n",
        "\n",
        "# Mostrar resultados\n",
        "print(f\"Media muestral: {x_b:.2f}\")\n",
        "print(f\"Desviación estándar muestral: {s:.2f}\")\n",
        "print(f\"Estadístico z: {z:.4f}\")\n",
        "print(f\"Valor p: {p_value:.4f}\")\n",
        "\n",
        "#Significancia\n",
        "alpha = 0.01\n",
        "\n",
        "# Conclusión\n",
        "if p_value < alpha:\n",
        "    print(\"Se rechaza H0\")\n",
        "else:\n",
        "    print(\"No se rechaza H0\")"
      ],
      "metadata": {
        "colab": {
          "base_uri": "https://localhost:8080/"
        },
        "id": "LVAB6h3_luJr",
        "outputId": "7b3d330d-22ee-4b4b-e033-c1cf0cce7ba6"
      },
      "execution_count": 5,
      "outputs": [
        {
          "output_type": "stream",
          "name": "stdout",
          "text": [
            "Media muestral: 8.90\n",
            "Desviación estándar muestral: 1.50\n",
            "Estadístico z: 3.0000\n",
            "Valor p: 0.0031\n",
            "Se rechaza H0\n"
          ]
        }
      ]
    }
  ]
}