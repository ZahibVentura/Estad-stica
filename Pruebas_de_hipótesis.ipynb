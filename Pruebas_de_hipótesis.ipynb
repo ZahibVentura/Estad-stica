{
  "nbformat": 4,
  "nbformat_minor": 0,
  "metadata": {
    "colab": {
      "provenance": [],
      "authorship_tag": "ABX9TyPVYn7LGQ1oOKgDkmPWDXYf",
      "include_colab_link": true
    },
    "kernelspec": {
      "name": "python3",
      "display_name": "Python 3"
    },
    "language_info": {
      "name": "python"
    }
  },
  "cells": [
    {
      "cell_type": "markdown",
      "metadata": {
        "id": "view-in-github",
        "colab_type": "text"
      },
      "source": [
        "<a href=\"https://colab.research.google.com/github/ZahibVentura/Estad-stica/blob/main/Pruebas_de_hip%C3%B3tesis.ipynb\" target=\"_parent\"><img src=\"https://colab.research.google.com/assets/colab-badge.svg\" alt=\"Open In Colab\"/></a>"
      ]
    },
    {
      "cell_type": "code",
      "execution_count": 5,
      "metadata": {
        "colab": {
          "base_uri": "https://localhost:8080/"
        },
        "id": "Ehuv9kRRi1s_",
        "outputId": "54fad525-360e-43d5-faf2-ae6f884a10a8"
      },
      "outputs": [
        {
          "output_type": "stream",
          "name": "stdout",
          "text": [
            "Media muestral: 147.00\n",
            "Desviación estándar muestral: 5.00\n",
            "Estadístico z: -3.6000\n",
            "Valor p: 0.0005\n",
            "Se rechaza H0\n"
          ]
        }
      ],
      "source": [
        "import numpy as np\n",
        "from scipy import stats\n",
        "\n",
        "# Parámetro poblacional (Hipótesis nula)\n",
        "mu = 150\n",
        "\n",
        "\n",
        "n = 36\n",
        "s = 5\n",
        "x_b = 147\n",
        "#S = np.std(salarios, ddof= 1)\n",
        "\n",
        "\n",
        "# Estadístico z\n",
        "z = (x_b - mu)/(s/n**(1/2))\n",
        "\n",
        "\n",
        "df = n\n",
        "# Valor p (prueba bilateral)\n",
        "p_value = 1 * stats.t.sf(np.abs(z), df)\n",
        "\n",
        "# Mostrar resultados\n",
        "print(f\"Media muestral: {x_b:.2f}\")\n",
        "print(f\"Desviación estándar muestral: {s:.2f}\")\n",
        "print(f\"Estadístico z: {z:.4f}\")\n",
        "print(f\"Valor p: {p_value:.4f}\")\n",
        "\n",
        "#Significancia\n",
        "alpha = 0.01\n",
        "\n",
        "# Conclusión\n",
        "if p_value < alpha:\n",
        "    print(\"Se rechaza H0\")\n",
        "else:\n",
        "    print(\"No se rechaza H0\")"
      ]
    },
    {
      "cell_type": "code",
      "source": [
        "import numpy as np\n",
        "from scipy import stats\n",
        "\n",
        "# Parámetro poblacional (Hipótesis nula)\n",
        "mu = 1\n",
        "\n",
        "\n",
        "n = 12\n",
        "s = 0.6\n",
        "x_b = 1.4\n",
        "#S = np.std(salarios, ddof= 1)\n",
        "\n",
        "\n",
        "# Estadístico z\n",
        "z = (x_b - mu)/(s/n**(1/2))\n",
        "\n",
        "\n",
        "df = n - 1\n",
        "# Valor p (prueba bilateral)\n",
        "p_value = 1 * stats.t.sf(np.abs(z), df)\n",
        "\n",
        "# Mostrar resultados\n",
        "print(f\"Media muestral: {x_b:.2f}\")\n",
        "print(f\"Desviación estándar muestral: {s:.2f}\")\n",
        "print(f\"Estadístico z: {z:.4f}\")\n",
        "print(f\"Valor p: {p_value:.4f}\")\n",
        "\n",
        "#Significancia\n",
        "alpha = 0.05\n",
        "\n",
        "# Conclusión\n",
        "if p_value < alpha:\n",
        "    print(\"Se rechaza H0\")\n",
        "else:\n",
        "    print(\"No se rechaza H0\")"
      ],
      "metadata": {
        "colab": {
          "base_uri": "https://localhost:8080/"
        },
        "id": "1LqxX8oIkW33",
        "outputId": "96cbd184-604b-4887-a442-7ebc81232fc8"
      },
      "execution_count": 6,
      "outputs": [
        {
          "output_type": "stream",
          "name": "stdout",
          "text": [
            "Media muestral: 1.40\n",
            "Desviación estándar muestral: 0.60\n",
            "Estadístico z: 2.3094\n",
            "Valor p: 0.0207\n",
            "Se rechaza H0\n"
          ]
        }
      ]
    },
    {
      "cell_type": "code",
      "source": [
        "import numpy as np\n",
        "from scipy import stats\n",
        "\n",
        "# Parámetro poblacional (Hipótesis nula)\n",
        "mu = 0.06\n",
        "\n",
        "\n",
        "n = 30\n",
        "s = 0.018\n",
        "x_b = 0.052\n",
        "#S = np.std(salarios, ddof= 1)\n",
        "\n",
        "\n",
        "# Estadístico z\n",
        "z = (x_b - mu)/(s/n**(1/2))\n",
        "\n",
        "\n",
        "df = n - 1\n",
        "# Valor p (prueba bilateral)\n",
        "p_value = 2 * stats.t.sf(np.abs(z), df)\n",
        "\n",
        "# Mostrar resultados\n",
        "print(f\"Media muestral: {x_b:.2f}\")\n",
        "print(f\"Desviación estándar muestral: {s:.2f}\")\n",
        "print(f\"Estadístico z: {z:.4f}\")\n",
        "print(f\"Valor p: {p_value:.4f}\")\n",
        "\n",
        "#Significancia\n",
        "alpha = 0.05\n",
        "\n",
        "# Conclusión\n",
        "if p_value < alpha:\n",
        "    print(\"Se rechaza H0\")\n",
        "else:\n",
        "    print(\"No se rechaza H0\")"
      ],
      "metadata": {
        "colab": {
          "base_uri": "https://localhost:8080/"
        },
        "id": "tla1PYXYkyFr",
        "outputId": "7a35dba6-7340-4ebc-b69e-15707fb31c98"
      },
      "execution_count": 7,
      "outputs": [
        {
          "output_type": "stream",
          "name": "stdout",
          "text": [
            "Media muestral: 0.05\n",
            "Desviación estándar muestral: 0.02\n",
            "Estadístico z: -2.4343\n",
            "Valor p: 0.0213\n",
            "Se rechaza H0\n"
          ]
        }
      ]
    },
    {
      "cell_type": "code",
      "source": [
        "from scipy import stats\n",
        "\n",
        "# Parámetro poblacional (Hipótesis nula)\n",
        "mu = 8\n",
        "\n",
        "\n",
        "n = 25\n",
        "s = 1.5\n",
        "x_b = 8.9\n",
        "#S = np.std(salarios, ddof= 1)\n",
        "\n",
        "\n",
        "# Estadístico z\n",
        "z = (x_b - mu)/(s/n**(1/2))\n",
        "\n",
        "\n",
        "df = n - 1\n",
        "# Valor p (prueba bilateral)\n",
        "p_value = 2 * stats.t.sf(np.abs(z), df)\n",
        "\n",
        "# Mostrar resultados\n",
        "print(f\"Media muestral: {x_b:.2f}\")\n",
        "print(f\"Desviación estándar muestral: {s:.2f}\")\n",
        "print(f\"Estadístico z: {z:.4f}\")\n",
        "print(f\"Valor p: {p_value:.4f}\")\n",
        "\n",
        "#Significancia\n",
        "alpha = 0.01\n",
        "\n",
        "# Conclusión\n",
        "if p_value < alpha:\n",
        "    print(\"Se rechaza H0\")\n",
        "else:\n",
        "    print(\"No se rechaza H0\")"
      ],
      "metadata": {
        "colab": {
          "base_uri": "https://localhost:8080/"
        },
        "id": "LVAB6h3_luJr",
        "outputId": "e8045494-b587-433c-b413-ed4ce644a278"
      },
      "execution_count": 8,
      "outputs": [
        {
          "output_type": "stream",
          "name": "stdout",
          "text": [
            "Media muestral: 8.90\n",
            "Desviación estándar muestral: 1.50\n",
            "Estadístico z: 3.0000\n",
            "Valor p: 0.0062\n",
            "Se rechaza H0\n"
          ]
        }
      ]
    }
  ]
}