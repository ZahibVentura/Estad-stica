{
  "nbformat": 4,
  "nbformat_minor": 0,
  "metadata": {
    "colab": {
      "provenance": [],
      "authorship_tag": "ABX9TyMizfaJD62qFshk0o7HbKyn",
      "include_colab_link": true
    },
    "kernelspec": {
      "name": "python3",
      "display_name": "Python 3"
    },
    "language_info": {
      "name": "python"
    }
  },
  "cells": [
    {
      "cell_type": "markdown",
      "metadata": {
        "id": "view-in-github",
        "colab_type": "text"
      },
      "source": [
        "<a href=\"https://colab.research.google.com/github/ZahibVentura/Estad-stica/blob/main/Untitled72.ipynb\" target=\"_parent\"><img src=\"https://colab.research.google.com/assets/colab-badge.svg\" alt=\"Open In Colab\"/></a>"
      ]
    },
    {
      "cell_type": "code",
      "execution_count": 8,
      "metadata": {
        "id": "BeZ7Vr4Of7Po"
      },
      "outputs": [],
      "source": [
        "import pandas as pd\n",
        "import numpy as np\n",
        "import matplotlib.pyplot as plt\n",
        "from statsmodels.stats.multicomp import pairwise_tukeyhsd\n",
        "import scipy"
      ]
    },
    {
      "cell_type": "code",
      "source": [
        "Tabla = pd.read_excel(\"anova_desempeno.csv.xlsx\")"
      ],
      "metadata": {
        "id": "D3MUbTdNb8lY"
      },
      "execution_count": 22,
      "outputs": []
    },
    {
      "cell_type": "code",
      "source": [
        "#Tabla = pd.read_excel(\"ANOVA.xlsx\")\n",
        "#Rt = Tabla\n",
        "print(Tabla)\n",
        "print(Rt)"
      ],
      "metadata": {
        "colab": {
          "base_uri": "https://localhost:8080/"
        },
        "id": "lDVFPJK4gKYD",
        "outputId": "d99261f4-3d6f-4bb4-8ae2-0b0858e455fe"
      },
      "execution_count": 23,
      "outputs": [
        {
          "output_type": "stream",
          "name": "stdout",
          "text": [
            "        valor grupo\n",
            "0   77.483571     X\n",
            "1   74.308678     X\n",
            "2   78.238443     X\n",
            "3   82.615149     X\n",
            "4   73.829233     X\n",
            "5   73.829315     X\n",
            "6   82.896064     X\n",
            "7   78.837174     X\n",
            "8   72.652628     X\n",
            "9   77.712800     X\n",
            "10  72.682912     X\n",
            "11  72.671351     X\n",
            "12  81.209811     Y\n",
            "13  70.433599     Y\n",
            "14  71.375411     Y\n",
            "15  77.188562     Y\n",
            "16  74.935844     Y\n",
            "17  81.571237     Y\n",
            "18  75.459880     Y\n",
            "19  72.938481     Y\n",
            "20  87.328244     Y\n",
            "21  78.871118     Y\n",
            "22  80.337641     Y\n",
            "23  72.876259     Y\n",
            "24  77.278086     Y\n",
            "25  80.554613     Y\n",
            "26  74.245032     Y\n",
            "27  79.878490     Z\n",
            "28  74.996807     Z\n",
            "29  76.541531     Z\n",
            "30  74.991467     Z\n",
            "31  87.261391     Z\n",
            "32  77.932514     Z\n",
            "33  72.711445     Z\n",
            "34  82.112725     Z\n",
            "35  71.895782     Z\n",
            "36  79.044318     Z\n",
            "    Dieta A   Dieta B   Dieta C      difa      difb      difc        Aa  \\\n",
            "0  3.912173  5.431054  4.249690  0.066491  1.590180  0.006346  0.740879   \n",
            "1  2.794122  3.669930  5.372362  1.893125  0.250101  1.445601  0.066207   \n",
            "2  2.835914  4.538791  5.250795  1.779867  0.135985  1.168053  0.046447   \n",
            "3  2.563516  4.507973  5.051247  2.580890  0.114205  0.776543  0.238060   \n",
            "4  3.532704  5.266885  5.250428  0.406185  1.203089  1.167259  0.231625   \n",
            "5  1.949231  4.150054  4.458136  4.931952  0.000399  0.083005  1.214842   \n",
            "6  3.972406  4.613786  4.738555  0.039056  0.196919  0.323220  0.848197   \n",
            "7  2.719397  4.261071  4.332115  2.104339  0.008288  0.026271  0.110246   \n",
            "8  3.259520  4.721107  4.666056  0.829030  0.303685  0.246041  0.043301   \n",
            "9  2.975315  4.991408  5.065178  1.427346  0.674660  0.801288  0.005793   \n",
            "\n",
            "         Bb        Cc  \n",
            "0  0.665608  0.352558  \n",
            "1  0.893547  0.279741  \n",
            "2  0.005839  0.165925  \n",
            "3  0.011499  0.043177  \n",
            "4  0.424685  0.165626  \n",
            "5  0.216366  0.148472  \n",
            "6  0.000002  0.011004  \n",
            "7  0.125412  0.261470  \n",
            "8  0.011215  0.031471  \n",
            "9  0.141528  0.049160  \n"
          ]
        }
      ]
    },
    {
      "cell_type": "code",
      "source": [
        "Medias = [Tabla[\"Dieta A\"].mean(), Tabla[\"Dieta B\"].mean(), Tabla[\"Dieta C\"].mean()]\n",
        "Media_total = np.mean(Medias)\n",
        "print(Medias)\n",
        "print(Media_total)"
      ],
      "metadata": {
        "colab": {
          "base_uri": "https://localhost:8080/"
        },
        "id": "-hYCjotkgwzw",
        "outputId": "26e4a876-9c9c-4709-9819-c339d0e1acc8"
      },
      "execution_count": 6,
      "outputs": [
        {
          "output_type": "stream",
          "name": "stdout",
          "text": [
            "[np.float64(3.0514295545969445), np.float64(4.615205808942315), np.float64(4.843456270477288)]\n",
            "4.170030544672183\n"
          ]
        }
      ]
    },
    {
      "cell_type": "code",
      "source": [
        "Tabla[\"difa\"] = (Tabla[\"Dieta A\"] - Media_total)**2\n",
        "Tabla[\"difb\"] = (Tabla[\"Dieta B\"] - Media_total)**2\n",
        "Tabla[\"difc\"] = (Tabla[\"Dieta C\"] - Media_total)**2\n",
        "print(Tabla)"
      ],
      "metadata": {
        "id": "MAdvINllh0av",
        "colab": {
          "base_uri": "https://localhost:8080/"
        },
        "outputId": "ab7f56fc-bace-4ee9-c283-8e3109b41bf3"
      },
      "execution_count": 11,
      "outputs": [
        {
          "output_type": "stream",
          "name": "stdout",
          "text": [
            "    Dieta A   Dieta B   Dieta C      difa      difb      difc\n",
            "0  3.912173  5.431054  4.249690  0.066491  1.590180  0.006346\n",
            "1  2.794122  3.669930  5.372362  1.893125  0.250101  1.445601\n",
            "2  2.835914  4.538791  5.250795  1.779867  0.135985  1.168053\n",
            "3  2.563516  4.507973  5.051247  2.580890  0.114205  0.776543\n",
            "4  3.532704  5.266885  5.250428  0.406185  1.203089  1.167259\n",
            "5  1.949231  4.150054  4.458136  4.931952  0.000399  0.083005\n",
            "6  3.972406  4.613786  4.738555  0.039056  0.196919  0.323220\n",
            "7  2.719397  4.261071  4.332115  2.104339  0.008288  0.026271\n",
            "8  3.259520  4.721107  4.666056  0.829030  0.303685  0.246041\n",
            "9  2.975315  4.991408  5.065178  1.427346  0.674660  0.801288\n"
          ]
        }
      ]
    },
    {
      "cell_type": "code",
      "source": [
        "Suma = [Tabla[\"difa\"].sum(),Tabla[\"difb\"].sum(),Tabla[\"difc\"].sum()]\n",
        "SCTy = np.sum(Suma)\n",
        "print(SCTy)"
      ],
      "metadata": {
        "colab": {
          "base_uri": "https://localhost:8080/"
        },
        "id": "odI_3fQFmw9-",
        "outputId": "c4e4ee86-3d94-44e6-8ce6-a545f3fdf108"
      },
      "execution_count": 12,
      "outputs": [
        {
          "output_type": "stream",
          "name": "stdout",
          "text": [
            "26.579417451340486\n"
          ]
        }
      ]
    },
    {
      "cell_type": "code",
      "source": [
        "SCE = []\n",
        "for i in Medias:\n",
        "  SCE.append(10*(i-Media_total)**2)\n",
        "\n",
        "SSB = np.sum(SCE)\n",
        "print(SSB)"
      ],
      "metadata": {
        "colab": {
          "base_uri": "https://localhost:8080/"
        },
        "id": "ENTdc-0KnaIq",
        "outputId": "d57242dd-2f38-452a-e0eb-accbf885e516"
      },
      "execution_count": 13,
      "outputs": [
        {
          "output_type": "stream",
          "name": "stdout",
          "text": [
            "19.02951399091419\n"
          ]
        }
      ]
    },
    {
      "cell_type": "code",
      "source": [
        "#e\n",
        "Tabla[\"Aa\"] = (Tabla[\"Dieta A\"] - Medias[0])**2\n",
        "Tabla[\"Bb\"] = (Tabla[\"Dieta B\"] - Medias[1])**2\n",
        "Tabla[\"Cc\"] = (Tabla[\"Dieta C\"] - Medias[2])**2\n",
        "Rr = [Tabla[\"Aa\"].sum(),Tabla[\"Bb\"].sum(),Tabla[\"Cc\"].sum()]\n",
        "SSW = np.sum(Rr)\n",
        "print(SSW)"
      ],
      "metadata": {
        "colab": {
          "base_uri": "https://localhost:8080/"
        },
        "id": "3wAC4e8upSB1",
        "outputId": "12412c80-9cf0-4a50-cbbc-76040d726798"
      },
      "execution_count": 14,
      "outputs": [
        {
          "output_type": "stream",
          "name": "stdout",
          "text": [
            "7.549903460426291\n"
          ]
        }
      ]
    },
    {
      "cell_type": "code",
      "source": [
        "#SCT = SSB + SSW\n",
        "SCT = SSB + SSW\n",
        "print(SCT)"
      ],
      "metadata": {
        "colab": {
          "base_uri": "https://localhost:8080/"
        },
        "id": "b_xiDVNKsDXx",
        "outputId": "ab55b713-5212-4328-b45b-a911a07e6ee7"
      },
      "execution_count": 15,
      "outputs": [
        {
          "output_type": "stream",
          "name": "stdout",
          "text": [
            "26.579417451340483\n"
          ]
        }
      ]
    },
    {
      "cell_type": "code",
      "source": [
        "#MCD y MCE\n",
        "MCD = SSW/(30 - 3)\n",
        "MCE = SSB/(2)\n",
        "print(MCD,MCE)"
      ],
      "metadata": {
        "colab": {
          "base_uri": "https://localhost:8080/"
        },
        "id": "g4MTnAwJtOTv",
        "outputId": "50ee98dd-1e74-4485-ad0d-c7a4103098f6"
      },
      "execution_count": 16,
      "outputs": [
        {
          "output_type": "stream",
          "name": "stdout",
          "text": [
            "0.27962605408986263 9.514756995457095\n"
          ]
        }
      ]
    },
    {
      "cell_type": "code",
      "source": [
        "#F\n",
        "F = MCE/MCD\n",
        "print(F)"
      ],
      "metadata": {
        "colab": {
          "base_uri": "https://localhost:8080/"
        },
        "id": "zAowcY7StkfA",
        "outputId": "625d1cb0-5f27-40dd-8b62-cf2a461d5eeb"
      },
      "execution_count": 17,
      "outputs": [
        {
          "output_type": "stream",
          "name": "stdout",
          "text": [
            "34.02671838440121\n"
          ]
        }
      ]
    },
    {
      "cell_type": "code",
      "source": [
        "from scipy.stats import studentized_range\n",
        "Tukye = studentized_range.ppf(0.95,3,27)\n",
        "print(Tukye)"
      ],
      "metadata": {
        "colab": {
          "base_uri": "https://localhost:8080/"
        },
        "id": "cZdHz5ctVhrb",
        "outputId": "ef331de7-e289-4df7-9238-5a8f904660d1"
      },
      "execution_count": 21,
      "outputs": [
        {
          "output_type": "stream",
          "name": "stdout",
          "text": [
            "3.506426123354149\n"
          ]
        }
      ]
    }
  ]
}