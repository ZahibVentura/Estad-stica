{
  "nbformat": 4,
  "nbformat_minor": 0,
  "metadata": {
    "colab": {
      "provenance": [],
      "authorship_tag": "ABX9TyMfSh06tNYvPonkNcDYqKki",
      "include_colab_link": true
    },
    "kernelspec": {
      "name": "python3",
      "display_name": "Python 3"
    },
    "language_info": {
      "name": "python"
    }
  },
  "cells": [
    {
      "cell_type": "markdown",
      "metadata": {
        "id": "view-in-github",
        "colab_type": "text"
      },
      "source": [
        "<a href=\"https://colab.research.google.com/github/ZahibVentura/Estad-stica/blob/main/Anova_de_un_factor_con_muestras_de_distintos_tama%C3%B1os.ipynb\" target=\"_parent\"><img src=\"https://colab.research.google.com/assets/colab-badge.svg\" alt=\"Open In Colab\"/></a>"
      ]
    },
    {
      "cell_type": "code",
      "source": [
        "import pandas as pd\n",
        "import numpy as np\n",
        "from scipy import stats\n",
        "from statsmodels.stats.multicomp import pairwise_tukeyhsd"
      ],
      "metadata": {
        "id": "BpB8cXaLcU0L"
      },
      "execution_count": 13,
      "outputs": []
    },
    {
      "cell_type": "code",
      "source": [
        "# Cargar datos\n",
        "df = pd.read_excel(\"anova_desempeno.csv.xlsx\")"
      ],
      "metadata": {
        "id": "jviLEXg1bVCt"
      },
      "execution_count": 3,
      "outputs": []
    },
    {
      "cell_type": "code",
      "source": [
        "# 1. Hipótesis\n",
        "# H0: Las medias de los tres grupos son iguales\n",
        "# H1: Al menos una media es diferente"
      ],
      "metadata": {
        "id": "zJs7pHCMbakl"
      },
      "execution_count": 4,
      "outputs": []
    },
    {
      "cell_type": "code",
      "source": [
        "# 2. Estadísticas descriptivas\n",
        "media_X = df[df[\"grupo\"] == \"X\"][\"valor\"].mean()\n",
        "media_Y = df[df[\"grupo\"] == \"Y\"][\"valor\"].mean()\n",
        "media_Z = df[df[\"grupo\"] == \"Z\"][\"valor\"].mean()\n",
        "media_global = df[\"valor\"].mean()"
      ],
      "metadata": {
        "id": "c_8WJbZwbeDu"
      },
      "execution_count": 5,
      "outputs": []
    },
    {
      "cell_type": "code",
      "source": [
        "print(\"Media Grupo X:\", media_X)\n",
        "print(\"Media Grupo Y:\", media_Y)\n",
        "print(\"Media Grupo Z:\", media_Z)\n",
        "print(\"Media Global:\", media_global)"
      ],
      "metadata": {
        "colab": {
          "base_uri": "https://localhost:8080/"
        },
        "id": "K1c-mSo9bkmr",
        "outputId": "0793ef5b-d1ed-47d7-c88a-41e27438a59f"
      },
      "execution_count": 6,
      "outputs": [
        {
          "output_type": "stream",
          "name": "stdout",
          "text": [
            "Media Grupo X: 76.47977652941864\n",
            "Media Grupo Y: 77.10692129174343\n",
            "Media Grupo Z: 77.73664692717804\n",
            "Media Global: 77.07371910813394\n"
          ]
        }
      ]
    },
    {
      "cell_type": "code",
      "source": [
        "# 3. ANOVA\n",
        "\n",
        "# Suma de Cuadrados Total (SCT)\n",
        "SCT = np.sum((df[\"valor\"] - media_global) ** 2)\n",
        "\n",
        "# Suma de Cuadrados Entre Grupos (SCE)\n",
        "grupos = df.groupby(\"grupo\")[\"valor\"]\n",
        "SCE = sum(len(g) * (g.mean() - media_global) ** 2 for name, g in grupos)\n",
        "\n",
        "# Suma de Cuadrados Dentro de Grupos (SCD)\n",
        "SCD = sum(np.sum((g - g.mean())**2) for name, g in grupos)"
      ],
      "metadata": {
        "id": "rEzIfjMNbleJ"
      },
      "execution_count": 7,
      "outputs": []
    },
    {
      "cell_type": "code",
      "source": [
        "print(\"SCT:\", SCT)\n",
        "print(\"SCE:\", SCE)\n",
        "print(\"SCD:\", SCD)"
      ],
      "metadata": {
        "colab": {
          "base_uri": "https://localhost:8080/"
        },
        "id": "9QkyBrZObwAp",
        "outputId": "4d972a99-00ca-4d8c-9ddc-9643a0e14b00"
      },
      "execution_count": 8,
      "outputs": [
        {
          "output_type": "stream",
          "name": "stdout",
          "text": [
            "SCT: 647.9979146302204\n",
            "SCE: 8.644482149304004\n",
            "SCD: 639.3534324809162\n"
          ]
        }
      ]
    },
    {
      "cell_type": "code",
      "source": [
        "# 5. Valor crítico o p-value\n",
        "f_critico = stats.f.ppf(0.95, k - 1, N - k)\n",
        "p_value = 1 - stats.f.cdf(F, k - 1, N - k)\n",
        "\n",
        "print(\"F crítico (α=0.05):\", f_critico)\n",
        "print(\"p-value:\", p_value)\n",
        "\n",
        "if p_value < 0.05:\n",
        "    print(\"Se rechaza H0: hay diferencias significativas\")\n",
        "else:\n",
        "    print(\"No se rechaza H0: no hay evidencia de diferencias\")"
      ],
      "metadata": {
        "colab": {
          "base_uri": "https://localhost:8080/"
        },
        "id": "glrSvP2Vb3ZT",
        "outputId": "d8f24a78-d5de-4986-c0bf-cce24bec0251"
      },
      "execution_count": 10,
      "outputs": [
        {
          "output_type": "stream",
          "name": "stdout",
          "text": [
            "F crítico (α=0.05): 3.27589799067239\n",
            "p-value: 0.7958764951439442\n",
            "No se rechaza H0: no hay evidencia de diferencias\n"
          ]
        }
      ]
    },
    {
      "cell_type": "code",
      "source": [
        "# 6. Prueba post-hoc (Tukey HSD)\n",
        "tukey = pairwise_tukeyhsd(df[\"valor\"], df[\"grupo\"])\n",
        "print(tukey)"
      ],
      "metadata": {
        "colab": {
          "base_uri": "https://localhost:8080/"
        },
        "id": "03szMyt6cHDy",
        "outputId": "7fdcbca6-e15b-482f-a281-b1c7a7a63ba2"
      },
      "execution_count": 11,
      "outputs": [
        {
          "output_type": "stream",
          "name": "stdout",
          "text": [
            "Multiple Comparison of Means - Tukey HSD, FWER=0.05\n",
            "===================================================\n",
            "group1 group2 meandiff p-adj   lower  upper  reject\n",
            "---------------------------------------------------\n",
            "     X      Y   0.6271 0.9262 -3.4883 4.7426  False\n",
            "     X      Z   1.2569 0.7784  -3.293 5.8067  False\n",
            "     Y      Z   0.6297 0.9328 -3.7084 4.9678  False\n",
            "---------------------------------------------------\n"
          ]
        }
      ]
    },
    {
      "cell_type": "code",
      "source": [
        "# Recomendación final\n",
        "print(\"\\nRecomendación: elegir el grupo con mayor media si hay diferencia significativa.\")"
      ],
      "metadata": {
        "colab": {
          "base_uri": "https://localhost:8080/"
        },
        "id": "_6g3L-R9cHxb",
        "outputId": "abbb0121-c9e0-41a4-fbe7-34a8ae1c20ce"
      },
      "execution_count": 12,
      "outputs": [
        {
          "output_type": "stream",
          "name": "stdout",
          "text": [
            "\n",
            "Recomendación: elegir el grupo con mayor media si hay diferencia significativa.\n"
          ]
        }
      ]
    }
  ]
}