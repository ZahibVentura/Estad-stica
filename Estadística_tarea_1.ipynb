{
  "nbformat": 4,
  "nbformat_minor": 0,
  "metadata": {
    "colab": {
      "provenance": [],
      "authorship_tag": "ABX9TyMy2kuUUaIOf6BGSoh1ZR/P",
      "include_colab_link": true
    },
    "kernelspec": {
      "name": "python3",
      "display_name": "Python 3"
    },
    "language_info": {
      "name": "python"
    }
  },
  "cells": [
    {
      "cell_type": "markdown",
      "metadata": {
        "id": "view-in-github",
        "colab_type": "text"
      },
      "source": [
        "<a href=\"https://colab.research.google.com/github/ZahibVentura/Estad-stica/blob/main/Estad%C3%ADstica_tarea_1.ipynb\" target=\"_parent\"><img src=\"https://colab.research.google.com/assets/colab-badge.svg\" alt=\"Open In Colab\"/></a>"
      ]
    },
    {
      "cell_type": "markdown",
      "source": [
        "##Ejercicio 1\n",
        "\n",
        "Ejercicio: Se muestran los datos de la población de pacientes de una clínica de rehabilitación por alcoholismo, se anotó los años de consumo de alcohol, la edad del individuo, su escolaridad, sexo, el gasto promedio a la semana de alcohol y el estado dónde se localiza la clínica. Se emite además un diagnóstico del grado de alcoholismo.\n",
        "\n",
        "a) Identifique los tipos de variables que se usaron en la clínica.\n",
        "\n",
        "b) De la variables cuantitativas calcule: media, mediana, moda, varianza, desviación poblacional, el primer y tercer cuartíl y los percentiles 10 y 90.\n"
      ],
      "metadata": {
        "id": "zIVRlQm9Pl6G"
      }
    },
    {
      "cell_type": "markdown",
      "source": [
        "##Solución\n",
        "\n",
        "a) Identifique el tipo de variables que se usaron en la clínica\n",
        "\n",
        "Tenemos: Años de consumos, edad, años de escuela, diagnóstico, sexo, gasto promedio y clínica.\n",
        "\n",
        "\n",
        "*   Años de consumo: Variable cuantitativa - discreta.\n",
        "*   Edad: Variable cuantitativa - discreta.\n",
        "*   Años de escuela: Variable cuantitativa - discreta.\n",
        "*   Diagnóstico: Variable cualitativa - ordinal.\n",
        "*   Sexo: Variable cualitativa - nominal.\n",
        "*   Gasto promedio: Variable cuantitativa - continua.\n",
        "*   Clínica: Variable cualitativa - nominal.\n",
        "\n",
        "\n",
        "\n",
        "\n",
        "\n",
        "\n",
        "\n",
        "\n",
        "\n"
      ],
      "metadata": {
        "id": "YebSvp4MRGO_"
      }
    },
    {
      "cell_type": "markdown",
      "source": [
        "b) De la variables cuantitativas calcule: media, mediana, moda, varianza, desviación poblacional, el primer y tercer cuartíl y los percentiles 10 y 90.\n",
        "\n",
        "El siguiente código hace los cálculos"
      ],
      "metadata": {
        "id": "33Yd6hWCVUcC"
      }
    },
    {
      "cell_type": "code",
      "execution_count": 13,
      "metadata": {
        "id": "PhPUanLdM3SP"
      },
      "outputs": [],
      "source": [
        "#importamo las librerias a trabajar\n",
        "import pandas as pd #Trabaja con datos\n",
        "import numpy as np #Operaciones matematicas y estadisticas"
      ]
    },
    {
      "cell_type": "code",
      "source": [
        "# Cargar el archivo de Excel\n",
        "archivo_excel = \"Datos 1.xlsx\"\n",
        "datos = pd.read_excel(archivo_excel, sheet_name=\"Hoja1\")\n",
        "\n",
        "# Mostrar las primeras filas del DataFrame\n",
        "print(datos.head())"
      ],
      "metadata": {
        "colab": {
          "base_uri": "https://localhost:8080/"
        },
        "id": "VqQhxE8kM6AD",
        "outputId": "17cb0163-da0f-48ab-f152-9e85161f20dd"
      },
      "execution_count": 23,
      "outputs": [
        {
          "output_type": "stream",
          "name": "stdout",
          "text": [
            "   ID  Años Consumo  Edad  Años Escuela Diagnóstico Sexo  Gasto promedio   \\\n",
            "0   1             6    26            12       Bueno    M          2174.67   \n",
            "1   2             9    41            12        Malo    M          2389.46   \n",
            "2   3            11    49            11       Grave    M           385.48   \n",
            "3   4             5    20             8       Bueno    M          1549.66   \n",
            "4   5             6    29             9        Malo    M           103.72   \n",
            "\n",
            "       Clínica  \n",
            "0         CDMX  \n",
            "1  Guadalajara  \n",
            "2       Toluca  \n",
            "3    Monterrey  \n",
            "4    Queretaro  \n"
          ]
        }
      ]
    },
    {
      "cell_type": "code",
      "source": [
        "# Convertir el DataFrame a una lista de diccionarios\n",
        "lista_diccionarios = datos.to_dict(orient=\"records\")\n",
        "\n",
        "# Mostrar la lista de diccionarios\n",
        "print(lista_diccionarios)"
      ],
      "metadata": {
        "colab": {
          "base_uri": "https://localhost:8080/"
        },
        "id": "6UdQtWvuNa_H",
        "outputId": "c90ebf19-a3ae-4570-ca26-a507e9416a0d"
      },
      "execution_count": 15,
      "outputs": [
        {
          "output_type": "stream",
          "name": "stdout",
          "text": [
            "[{'ID': 1, 'Años Consumo': 6, 'Edad': 26, 'Años Escuela': 12, 'Diagnóstico': 'Bueno', 'Sexo': 'M', 'Gasto promedio\\xa0': 2174.67, 'Clínica': 'CDMX'}, {'ID': 2, 'Años Consumo': 9, 'Edad': 41, 'Años Escuela': 12, 'Diagnóstico': 'Malo', 'Sexo': 'M', 'Gasto promedio\\xa0': 2389.46, 'Clínica': 'Guadalajara'}, {'ID': 3, 'Años Consumo': 11, 'Edad': 49, 'Años Escuela': 11, 'Diagnóstico': 'Grave', 'Sexo': 'M', 'Gasto promedio\\xa0': 385.48, 'Clínica': 'Toluca'}, {'ID': 4, 'Años Consumo': 5, 'Edad': 20, 'Años Escuela': 8, 'Diagnóstico': 'Bueno', 'Sexo': 'M', 'Gasto promedio\\xa0': 1549.66, 'Clínica': 'Monterrey'}, {'ID': 5, 'Años Consumo': 6, 'Edad': 29, 'Años Escuela': 9, 'Diagnóstico': 'Malo', 'Sexo': 'M', 'Gasto promedio\\xa0': 103.72, 'Clínica': 'Queretaro'}, {'ID': 6, 'Años Consumo': 8, 'Edad': 34, 'Años Escuela': 13, 'Diagnóstico': 'Grave', 'Sexo': 'M', 'Gasto promedio\\xa0': 1620.82, 'Clínica': 'Toluca'}, {'ID': 7, 'Años Consumo': 12, 'Edad': 54, 'Años Escuela': 16, 'Diagnóstico': 'Bueno', 'Sexo': 'M', 'Gasto promedio\\xa0': 921.65, 'Clínica': 'Queretaro'}, {'ID': 8, 'Años Consumo': 7, 'Edad': 33, 'Años Escuela': 16, 'Diagnóstico': 'Bueno', 'Sexo': 'M', 'Gasto promedio\\xa0': 3058.38, 'Clínica': 'Monterrey'}, {'ID': 9, 'Años Consumo': 9, 'Edad': 37, 'Años Escuela': 14, 'Diagnóstico': 'Bueno', 'Sexo': 'F', 'Gasto promedio\\xa0': 2854.57, 'Clínica': 'Guadalajara'}, {'ID': 10, 'Años Consumo': 7, 'Edad': 31, 'Años Escuela': 10, 'Diagnóstico': 'Grave', 'Sexo': 'F', 'Gasto promedio\\xa0': 4457.23, 'Clínica': 'Guadalajara'}, {'ID': 11, 'Años Consumo': 6, 'Edad': 26, 'Años Escuela': 7, 'Diagnóstico': 'Grave', 'Sexo': 'F', 'Gasto promedio\\xa0': 4632.01, 'Clínica': 'CDMX'}, {'ID': 12, 'Años Consumo': 7, 'Edad': 30, 'Años Escuela': 12, 'Diagnóstico': 'Bueno', 'Sexo': 'F', 'Gasto promedio\\xa0': 4954.78, 'Clínica': 'Monterrey'}, {'ID': 13, 'Años Consumo': 8, 'Edad': 37, 'Años Escuela': 12, 'Diagnóstico': 'Malo', 'Sexo': 'M', 'Gasto promedio\\xa0': 3412.04, 'Clínica': 'Monterrey'}, {'ID': 14, 'Años Consumo': 12, 'Edad': 48, 'Años Escuela': 7, 'Diagnóstico': 'Grave', 'Sexo': 'M', 'Gasto promedio\\xa0': 4363.38, 'Clínica': 'Puebla'}, {'ID': 15, 'Años Consumo': 9, 'Edad': 40, 'Años Escuela': 12, 'Diagnóstico': 'Grave', 'Sexo': 'F', 'Gasto promedio\\xa0': 1946.71, 'Clínica': 'Toluca'}, {'ID': 16, 'Años Consumo': 6, 'Edad': 28, 'Años Escuela': 12, 'Diagnóstico': 'Bueno', 'Sexo': 'F', 'Gasto promedio\\xa0': 3898.92, 'Clínica': 'CDMX'}, {'ID': 17, 'Años Consumo': 8, 'Edad': 36, 'Años Escuela': 12, 'Diagnóstico': 'Bueno', 'Sexo': 'M', 'Gasto promedio\\xa0': 3922.49, 'Clínica': 'Queretaro'}, {'ID': 18, 'Años Consumo': 9, 'Edad': 37, 'Años Escuela': 11, 'Diagnóstico': 'Malo', 'Sexo': 'M', 'Gasto promedio\\xa0': 1524.7, 'Clínica': 'CDMX'}, {'ID': 19, 'Años Consumo': 4, 'Edad': 19, 'Años Escuela': 10, 'Diagnóstico': 'Grave', 'Sexo': 'M', 'Gasto promedio\\xa0': 1889.65, 'Clínica': 'Monterrey'}, {'ID': 20, 'Años Consumo': 6, 'Edad': 29, 'Años Escuela': 14, 'Diagnóstico': 'Bueno', 'Sexo': 'M', 'Gasto promedio\\xa0': 3967.62, 'Clínica': 'Queretaro'}, {'ID': 21, 'Años Consumo': 6, 'Edad': 28, 'Años Escuela': 17, 'Diagnóstico': 'Bueno', 'Sexo': 'M', 'Gasto promedio\\xa0': 2959.72, 'Clínica': 'Monterrey'}, {'ID': 22, 'Años Consumo': 6, 'Edad': 24, 'Años Escuela': 12, 'Diagnóstico': 'Grave', 'Sexo': 'M', 'Gasto promedio\\xa0': 2472.18, 'Clínica': 'Queretaro'}, {'ID': 23, 'Años Consumo': 8, 'Edad': 38, 'Años Escuela': 10, 'Diagnóstico': 'Malo', 'Sexo': 'F', 'Gasto promedio\\xa0': 2785.04, 'Clínica': 'Queretaro'}, {'ID': 24, 'Años Consumo': 9, 'Edad': 41, 'Años Escuela': 8, 'Diagnóstico': 'Malo', 'Sexo': 'M', 'Gasto promedio\\xa0': 4145.5, 'Clínica': 'Queretaro'}, {'ID': 25, 'Años Consumo': 10, 'Edad': 44, 'Años Escuela': 9, 'Diagnóstico': 'Bueno', 'Sexo': 'M', 'Gasto promedio\\xa0': 3939.92, 'Clínica': 'Queretaro'}, {'ID': 26, 'Años Consumo': 5, 'Edad': 21, 'Años Escuela': 12, 'Diagnóstico': 'Grave', 'Sexo': 'M', 'Gasto promedio\\xa0': 722.33, 'Clínica': 'CDMX'}, {'ID': 27, 'Años Consumo': 6, 'Edad': 26, 'Años Escuela': 10, 'Diagnóstico': 'Grave', 'Sexo': 'F', 'Gasto promedio\\xa0': 1560.71, 'Clínica': 'Toluca'}, {'ID': 28, 'Años Consumo': 9, 'Edad': 38, 'Años Escuela': 12, 'Diagnóstico': 'Bueno', 'Sexo': 'M', 'Gasto promedio\\xa0': 2859.91, 'Clínica': 'Guadalajara'}, {'ID': 29, 'Años Consumo': 8, 'Edad': 38, 'Años Escuela': 10, 'Diagnóstico': 'Grave', 'Sexo': 'M', 'Gasto promedio\\xa0': 1997.85, 'Clínica': 'Queretaro'}, {'ID': 30, 'Años Consumo': 9, 'Edad': 37, 'Años Escuela': 13, 'Diagnóstico': 'Bueno', 'Sexo': 'M', 'Gasto promedio\\xa0': 3210.99, 'Clínica': 'CDMX'}, {'ID': 31, 'Años Consumo': 12, 'Edad': 39, 'Años Escuela': 10, 'Diagnóstico': 'Malo', 'Sexo': 'F', 'Gasto promedio\\xa0': 3880.45, 'Clínica': 'CDMX'}, {'ID': 32, 'Años Consumo': 12, 'Edad': 48, 'Años Escuela': 8, 'Diagnóstico': 'Grave', 'Sexo': 'F', 'Gasto promedio\\xa0': 146.68, 'Clínica': 'CDMX'}, {'ID': 33, 'Años Consumo': 15, 'Edad': 26, 'Años Escuela': 9, 'Diagnóstico': 'Malo', 'Sexo': 'F', 'Gasto promedio\\xa0': 4307.43, 'Clínica': 'Queretaro'}, {'ID': 34, 'Años Consumo': 15, 'Edad': 32, 'Años Escuela': 12, 'Diagnóstico': 'Bueno', 'Sexo': 'M', 'Gasto promedio\\xa0': 2398.29, 'Clínica': 'CDMX'}, {'ID': 35, 'Años Consumo': 5, 'Edad': 36, 'Años Escuela': 10, 'Diagnóstico': 'Grave', 'Sexo': 'F', 'Gasto promedio\\xa0': 529.09, 'Clínica': 'CDMX'}, {'ID': 36, 'Años Consumo': 14, 'Edad': 40, 'Años Escuela': 12, 'Diagnóstico': 'Malo', 'Sexo': 'M', 'Gasto promedio\\xa0': 1768.19, 'Clínica': 'Guadalajara'}, {'ID': 37, 'Años Consumo': 6, 'Edad': 32, 'Años Escuela': 10, 'Diagnóstico': 'Bueno', 'Sexo': 'M', 'Gasto promedio\\xa0': 3281.46, 'Clínica': 'Monterrey'}, {'ID': 38, 'Años Consumo': 7, 'Edad': 28, 'Años Escuela': 13, 'Diagnóstico': 'Grave', 'Sexo': 'M', 'Gasto promedio\\xa0': 1440.97, 'Clínica': 'CDMX'}, {'ID': 39, 'Años Consumo': 14, 'Edad': 38, 'Años Escuela': 7, 'Diagnóstico': 'Grave', 'Sexo': 'M', 'Gasto promedio\\xa0': 1784.83, 'Clínica': 'CDMX'}, {'ID': 40, 'Años Consumo': 11, 'Edad': 21, 'Años Escuela': 7, 'Diagnóstico': 'Grave', 'Sexo': 'F', 'Gasto promedio\\xa0': 2775.91, 'Clínica': 'Guadalajara'}, {'ID': 41, 'Años Consumo': 14, 'Edad': 49, 'Años Escuela': 12, 'Diagnóstico': 'Bueno', 'Sexo': 'M', 'Gasto promedio\\xa0': 4028.51, 'Clínica': 'CDMX'}, {'ID': 42, 'Años Consumo': 14, 'Edad': 34, 'Años Escuela': 12, 'Diagnóstico': 'Bueno', 'Sexo': 'F', 'Gasto promedio\\xa0': 2961.41, 'Clínica': 'Monterrey'}, {'ID': 43, 'Años Consumo': 13, 'Edad': 48, 'Años Escuela': 12, 'Diagnóstico': 'Bueno', 'Sexo': 'F', 'Gasto promedio\\xa0': 2792.17, 'Clínica': 'Guadalajara'}, {'ID': 44, 'Años Consumo': 7, 'Edad': 43, 'Años Escuela': 11, 'Diagnóstico': 'Grave', 'Sexo': 'F', 'Gasto promedio\\xa0': 1983.76, 'Clínica': 'Guadalajara'}, {'ID': 45, 'Años Consumo': 8, 'Edad': 26, 'Años Escuela': 8, 'Diagnóstico': 'Bueno', 'Sexo': 'M', 'Gasto promedio\\xa0': 2048.71, 'Clínica': 'Monterrey'}, {'ID': 46, 'Años Consumo': 7, 'Edad': 25, 'Años Escuela': 9, 'Diagnóstico': 'Bueno', 'Sexo': 'M', 'Gasto promedio\\xa0': 378.14, 'Clínica': 'Guadalajara'}, {'ID': 47, 'Años Consumo': 11, 'Edad': 46, 'Años Escuela': 13, 'Diagnóstico': 'Grave', 'Sexo': 'M', 'Gasto promedio\\xa0': 1676.33, 'Clínica': 'Puebla'}, {'ID': 48, 'Años Consumo': 12, 'Edad': 31, 'Años Escuela': 16, 'Diagnóstico': 'Bueno', 'Sexo': 'M', 'Gasto promedio\\xa0': 3019.81, 'Clínica': 'CDMX'}, {'ID': 49, 'Años Consumo': 9, 'Edad': 42, 'Años Escuela': 16, 'Diagnóstico': 'Bueno', 'Sexo': 'F', 'Gasto promedio\\xa0': 3387.13, 'Clínica': 'Queretaro'}, {'ID': 50, 'Años Consumo': 10, 'Edad': 27, 'Años Escuela': 14, 'Diagnóstico': 'Grave', 'Sexo': 'F', 'Gasto promedio\\xa0': 2040.44, 'Clínica': 'Queretaro'}, {'ID': 51, 'Años Consumo': 5, 'Edad': 20, 'Años Escuela': 10, 'Diagnóstico': 'Malo', 'Sexo': 'F', 'Gasto promedio\\xa0': 132.14, 'Clínica': 'Queretaro'}, {'ID': 52, 'Años Consumo': 15, 'Edad': 20, 'Años Escuela': 7, 'Diagnóstico': 'Grave', 'Sexo': 'M', 'Gasto promedio\\xa0': 2522.06, 'Clínica': 'CDMX'}, {'ID': 53, 'Años Consumo': 12, 'Edad': 47, 'Años Escuela': 12, 'Diagnóstico': 'Bueno', 'Sexo': 'F', 'Gasto promedio\\xa0': 1423.21, 'Clínica': 'Queretaro'}, {'ID': 54, 'Años Consumo': 5, 'Edad': 25, 'Años Escuela': 12, 'Diagnóstico': 'Malo', 'Sexo': 'F', 'Gasto promedio\\xa0': 1202.17, 'Clínica': 'Guadalajara'}, {'ID': 55, 'Años Consumo': 8, 'Edad': 42, 'Años Escuela': 7, 'Diagnóstico': 'Bueno', 'Sexo': 'M', 'Gasto promedio\\xa0': 2149.14, 'Clínica': 'Chihuahua'}, {'ID': 56, 'Años Consumo': 9, 'Edad': 47, 'Años Escuela': 12, 'Diagnóstico': 'Bueno', 'Sexo': 'F', 'Gasto promedio\\xa0': 775.36, 'Clínica': 'Queretaro'}, {'ID': 57, 'Años Consumo': 12, 'Edad': 48, 'Años Escuela': 12, 'Diagnóstico': 'Bueno', 'Sexo': 'F', 'Gasto promedio\\xa0': 4585.21, 'Clínica': 'Monterrey'}, {'ID': 58, 'Años Consumo': 5, 'Edad': 25, 'Años Escuela': 10, 'Diagnóstico': 'Grave', 'Sexo': 'M', 'Gasto promedio\\xa0': 1599.84, 'Clínica': 'Chihuahua'}, {'ID': 59, 'Años Consumo': 7, 'Edad': 43, 'Años Escuela': 13, 'Diagnóstico': 'Grave', 'Sexo': 'M', 'Gasto promedio\\xa0': 4535.39, 'Clínica': 'Queretaro'}, {'ID': 60, 'Años Consumo': 11, 'Edad': 37, 'Años Escuela': 7, 'Diagnóstico': 'Malo', 'Sexo': 'M', 'Gasto promedio\\xa0': 2573.22, 'Clínica': 'Queretaro'}, {'ID': 61, 'Años Consumo': 6, 'Edad': 34, 'Años Escuela': 9, 'Diagnóstico': 'Malo', 'Sexo': 'M', 'Gasto promedio\\xa0': 4223.65, 'Clínica': 'Guadalajara'}, {'ID': 62, 'Años Consumo': 14, 'Edad': 50, 'Años Escuela': 9, 'Diagnóstico': 'Bueno', 'Sexo': 'M', 'Gasto promedio\\xa0': 2672.76, 'Clínica': 'Queretaro'}, {'ID': 63, 'Años Consumo': 7, 'Edad': 36, 'Años Escuela': 12, 'Diagnóstico': 'Grave', 'Sexo': 'F', 'Gasto promedio\\xa0': 1718.35, 'Clínica': 'Monterrey'}, {'ID': 64, 'Años Consumo': 14, 'Edad': 38, 'Años Escuela': 12, 'Diagnóstico': 'Malo', 'Sexo': 'M', 'Gasto promedio\\xa0': 4339.67, 'Clínica': 'CDMX'}, {'ID': 65, 'Años Consumo': 7, 'Edad': 45, 'Años Escuela': 11, 'Diagnóstico': 'Malo', 'Sexo': 'F', 'Gasto promedio\\xa0': 1661.89, 'Clínica': 'Guadalajara'}, {'ID': 66, 'Años Consumo': 14, 'Edad': 42, 'Años Escuela': 8, 'Diagnóstico': 'Malo', 'Sexo': 'M', 'Gasto promedio\\xa0': 864.21, 'Clínica': 'Queretaro'}, {'ID': 67, 'Años Consumo': 10, 'Edad': 27, 'Años Escuela': 9, 'Diagnóstico': 'Grave', 'Sexo': 'M', 'Gasto promedio\\xa0': 894.35, 'Clínica': 'CDMX'}, {'ID': 68, 'Años Consumo': 11, 'Edad': 44, 'Años Escuela': 13, 'Diagnóstico': 'Malo', 'Sexo': 'M', 'Gasto promedio\\xa0': 3638.32, 'Clínica': 'Toluca'}, {'ID': 69, 'Años Consumo': 10, 'Edad': 50, 'Años Escuela': 16, 'Diagnóstico': 'Bueno', 'Sexo': 'M', 'Gasto promedio\\xa0': 2122.34, 'Clínica': 'Monterrey'}, {'ID': 70, 'Años Consumo': 11, 'Edad': 20, 'Años Escuela': 16, 'Diagnóstico': 'Bueno', 'Sexo': 'M', 'Gasto promedio\\xa0': 3566.73, 'Clínica': 'Monterrey'}, {'ID': 71, 'Años Consumo': 8, 'Edad': 42, 'Años Escuela': 7, 'Diagnóstico': 'Grave', 'Sexo': 'M', 'Gasto promedio\\xa0': 1256.48, 'Clínica': 'Puebla'}, {'ID': 72, 'Años Consumo': 6, 'Edad': 22, 'Años Escuela': 12, 'Diagnóstico': 'Malo', 'Sexo': 'F', 'Gasto promedio\\xa0': 536.64, 'Clínica': 'Chihuahua'}, {'ID': 73, 'Años Consumo': 8, 'Edad': 28, 'Años Escuela': 11, 'Diagnóstico': 'Bueno', 'Sexo': 'M', 'Gasto promedio\\xa0': 1825.4, 'Clínica': 'Queretaro'}, {'ID': 74, 'Años Consumo': 13, 'Edad': 30, 'Años Escuela': 8, 'Diagnóstico': 'Bueno', 'Sexo': 'F', 'Gasto promedio\\xa0': 1522.67, 'Clínica': 'CDMX'}, {'ID': 75, 'Años Consumo': 12, 'Edad': 30, 'Años Escuela': 9, 'Diagnóstico': 'Grave', 'Sexo': 'M', 'Gasto promedio\\xa0': 3600.12, 'Clínica': 'CDMX'}, {'ID': 76, 'Años Consumo': 7, 'Edad': 38, 'Años Escuela': 13, 'Diagnóstico': 'Malo', 'Sexo': 'M', 'Gasto promedio\\xa0': 947.91, 'Clínica': 'CDMX'}, {'ID': 77, 'Años Consumo': 7, 'Edad': 33, 'Años Escuela': 16, 'Diagnóstico': 'Grave', 'Sexo': 'M', 'Gasto promedio\\xa0': 1849.09, 'Clínica': 'Puebla'}, {'ID': 78, 'Años Consumo': 5, 'Edad': 30, 'Años Escuela': 16, 'Diagnóstico': 'Bueno', 'Sexo': 'M', 'Gasto promedio\\xa0': 4323.54, 'Clínica': 'Monterrey'}, {'ID': 79, 'Años Consumo': 14, 'Edad': 43, 'Años Escuela': 14, 'Diagnóstico': 'Malo', 'Sexo': 'M', 'Gasto promedio\\xa0': 2354.27, 'Clínica': 'CDMX'}, {'ID': 80, 'Años Consumo': 5, 'Edad': 48, 'Años Escuela': 10, 'Diagnóstico': 'Malo', 'Sexo': 'M', 'Gasto promedio\\xa0': 4718.29, 'Clínica': 'Puebla'}, {'ID': 81, 'Años Consumo': 14, 'Edad': 36, 'Años Escuela': 7, 'Diagnóstico': 'Malo', 'Sexo': 'M', 'Gasto promedio\\xa0': 3204.87, 'Clínica': 'Chihuahua'}, {'ID': 82, 'Años Consumo': 13, 'Edad': 36, 'Años Escuela': 12, 'Diagnóstico': 'Grave', 'Sexo': 'M', 'Gasto promedio\\xa0': 3069.22, 'Clínica': 'Monterrey'}, {'ID': 83, 'Años Consumo': 5, 'Edad': 31, 'Años Escuela': 12, 'Diagnóstico': 'Grave', 'Sexo': 'M', 'Gasto promedio\\xa0': 500.94, 'Clínica': 'CDMX'}, {'ID': 84, 'Años Consumo': 5, 'Edad': 37, 'Años Escuela': 16, 'Diagnóstico': 'Bueno', 'Sexo': 'F', 'Gasto promedio\\xa0': 4641.03, 'Clínica': 'Puebla'}, {'ID': 85, 'Años Consumo': 10, 'Edad': 46, 'Años Escuela': 14, 'Diagnóstico': 'Malo', 'Sexo': 'F', 'Gasto promedio\\xa0': 4252.53, 'Clínica': 'Queretaro'}, {'ID': 86, 'Años Consumo': 8, 'Edad': 25, 'Años Escuela': 10, 'Diagnóstico': 'Grave', 'Sexo': 'M', 'Gasto promedio\\xa0': 1170.38, 'Clínica': 'CDMX'}, {'ID': 87, 'Años Consumo': 14, 'Edad': 20, 'Años Escuela': 7, 'Diagnóstico': 'Bueno', 'Sexo': 'M', 'Gasto promedio\\xa0': 672.14, 'Clínica': 'Puebla'}, {'ID': 88, 'Años Consumo': 11, 'Edad': 23, 'Años Escuela': 12, 'Diagnóstico': 'Grave', 'Sexo': 'F', 'Gasto promedio\\xa0': 883.8, 'Clínica': 'Monterrey'}, {'ID': 89, 'Años Consumo': 14, 'Edad': 38, 'Años Escuela': 12, 'Diagnóstico': 'Bueno', 'Sexo': 'M', 'Gasto promedio\\xa0': 4611.83, 'Clínica': 'CDMX'}, {'ID': 90, 'Años Consumo': 11, 'Edad': 28, 'Años Escuela': 7, 'Diagnóstico': 'Bueno', 'Sexo': 'F', 'Gasto promedio\\xa0': 3250.01, 'Clínica': 'Monterrey'}, {'ID': 91, 'Años Consumo': 8, 'Edad': 39, 'Años Escuela': 12, 'Diagnóstico': 'Grave', 'Sexo': 'M', 'Gasto promedio\\xa0': 838.24, 'Clínica': 'Monterrey'}, {'ID': 92, 'Años Consumo': 9, 'Edad': 42, 'Años Escuela': 12, 'Diagnóstico': 'Grave', 'Sexo': 'M', 'Gasto promedio\\xa0': 1738.92, 'Clínica': 'CDMX'}, {'ID': 93, 'Años Consumo': 12, 'Edad': 26, 'Años Escuela': 12, 'Diagnóstico': 'Malo', 'Sexo': 'F', 'Gasto promedio\\xa0': 860.16, 'Clínica': 'Monterrey'}, {'ID': 94, 'Años Consumo': 13, 'Edad': 22, 'Años Escuela': 12, 'Diagnóstico': 'Grave', 'Sexo': 'M', 'Gasto promedio\\xa0': 1564.93, 'Clínica': 'Queretaro'}, {'ID': 95, 'Años Consumo': 8, 'Edad': 30, 'Años Escuela': 12, 'Diagnóstico': 'Malo', 'Sexo': 'M', 'Gasto promedio\\xa0': 4066.79, 'Clínica': 'Chihuahua'}, {'ID': 96, 'Años Consumo': 12, 'Edad': 44, 'Años Escuela': 7, 'Diagnóstico': 'Bueno', 'Sexo': 'M', 'Gasto promedio\\xa0': 3127.64, 'Clínica': 'CDMX'}, {'ID': 97, 'Años Consumo': 10, 'Edad': 50, 'Años Escuela': 12, 'Diagnóstico': 'Grave', 'Sexo': 'M', 'Gasto promedio\\xa0': 3670.61, 'Clínica': 'Monterrey'}, {'ID': 98, 'Años Consumo': 10, 'Edad': 38, 'Años Escuela': 12, 'Diagnóstico': 'Malo', 'Sexo': 'M', 'Gasto promedio\\xa0': 3719.09, 'Clínica': 'Monterrey'}, {'ID': 99, 'Años Consumo': 13, 'Edad': 20, 'Años Escuela': 12, 'Diagnóstico': 'Bueno', 'Sexo': 'F', 'Gasto promedio\\xa0': 1108.29, 'Clínica': 'CDMX'}, {'ID': 100, 'Años Consumo': 8, 'Edad': 39, 'Años Escuela': 7, 'Diagnóstico': 'Malo', 'Sexo': 'F', 'Gasto promedio\\xa0': 3859.15, 'Clínica': 'CDMX'}, {'ID': 101, 'Años Consumo': 5, 'Edad': 54, 'Años Escuela': 7, 'Diagnóstico': 'Grave', 'Sexo': 'F', 'Gasto promedio\\xa0': 41.48, 'Clínica': 'Guadalajara'}, {'ID': 102, 'Años Consumo': 12, 'Edad': 33, 'Años Escuela': 12, 'Diagnóstico': 'Bueno', 'Sexo': 'F', 'Gasto promedio\\xa0': 64.92, 'Clínica': 'CDMX'}, {'ID': 103, 'Años Consumo': 7, 'Edad': 37, 'Años Escuela': 12, 'Diagnóstico': 'Bueno', 'Sexo': 'M', 'Gasto promedio\\xa0': 66.69, 'Clínica': 'Monterrey'}, {'ID': 104, 'Años Consumo': 12, 'Edad': 31, 'Años Escuela': 7, 'Diagnóstico': 'Bueno', 'Sexo': 'M', 'Gasto promedio\\xa0': 67.92, 'Clínica': 'Guadalajara'}, {'ID': 105, 'Años Consumo': 6, 'Edad': 26, 'Años Escuela': 12, 'Diagnóstico': 'Grave', 'Sexo': 'M', 'Gasto promedio\\xa0': 31.42, 'Clínica': 'Queretaro'}, {'ID': 106, 'Años Consumo': 9, 'Edad': 30, 'Años Escuela': 12, 'Diagnóstico': 'Grave', 'Sexo': 'M', 'Gasto promedio\\xa0': 50.88, 'Clínica': 'Queretaro'}, {'ID': 107, 'Años Consumo': 9, 'Edad': 37, 'Años Escuela': 12, 'Diagnóstico': 'Bueno', 'Sexo': 'F', 'Gasto promedio\\xa0': 76.11, 'Clínica': 'Monterrey'}, {'ID': 108, 'Años Consumo': 15, 'Edad': 48, 'Años Escuela': 11, 'Diagnóstico': 'Malo', 'Sexo': 'F', 'Gasto promedio\\xa0': 76.06, 'Clínica': 'Monterrey'}, {'ID': 109, 'Años Consumo': 11, 'Edad': 40, 'Años Escuela': 10, 'Diagnóstico': 'Grave', 'Sexo': 'F', 'Gasto promedio\\xa0': 49.79, 'Clínica': 'CDMX'}, {'ID': 110, 'Años Consumo': 7, 'Edad': 28, 'Años Escuela': 14, 'Diagnóstico': 'Malo', 'Sexo': 'M', 'Gasto promedio\\xa0': 74.98, 'Clínica': 'Monterrey'}, {'ID': 111, 'Años Consumo': 15, 'Edad': 32, 'Años Escuela': 17, 'Diagnóstico': 'Bueno', 'Sexo': 'F', 'Gasto promedio\\xa0': 58.81, 'Clínica': 'Monterrey'}, {'ID': 112, 'Años Consumo': 5, 'Edad': 28, 'Años Escuela': 12, 'Diagnóstico': 'Grave', 'Sexo': 'F', 'Gasto promedio\\xa0': 67.78, 'Clínica': 'CDMX'}, {'ID': 113, 'Años Consumo': 11, 'Edad': 49, 'Años Escuela': 10, 'Diagnóstico': 'Malo', 'Sexo': 'M', 'Gasto promedio\\xa0': 44.01, 'Clínica': 'Guadalajara'}, {'ID': 114, 'Años Consumo': 5, 'Edad': 43, 'Años Escuela': 8, 'Diagnóstico': 'Bueno', 'Sexo': 'F', 'Gasto promedio\\xa0': 30.8, 'Clínica': 'Monterrey'}, {'ID': 115, 'Años Consumo': 12, 'Edad': 46, 'Años Escuela': 9, 'Diagnóstico': 'Malo', 'Sexo': 'F', 'Gasto promedio\\xa0': 78.4, 'Clínica': 'CDMX'}, {'ID': 116, 'Años Consumo': 7, 'Edad': 50, 'Años Escuela': 12, 'Diagnóstico': 'Grave', 'Sexo': 'M', 'Gasto promedio\\xa0': 34.42, 'Clínica': 'Queretaro'}, {'ID': 117, 'Años Consumo': 7, 'Edad': 42, 'Años Escuela': 10, 'Diagnóstico': 'Bueno', 'Sexo': 'M', 'Gasto promedio\\xa0': 60.55, 'Clínica': 'Queretaro'}, {'ID': 118, 'Años Consumo': 5, 'Edad': 50, 'Años Escuela': 12, 'Diagnóstico': 'Bueno', 'Sexo': 'M', 'Gasto promedio\\xa0': 34.94, 'Clínica': 'Chihuahua'}, {'ID': 119, 'Años Consumo': 14, 'Edad': 28, 'Años Escuela': 12, 'Diagnóstico': 'Bueno', 'Sexo': 'M', 'Gasto promedio\\xa0': 77.77, 'Clínica': 'Guadalajara'}, {'ID': 120, 'Años Consumo': 5, 'Edad': 38, 'Años Escuela': 12, 'Diagnóstico': 'Grave', 'Sexo': 'M', 'Gasto promedio\\xa0': 66.79, 'Clínica': 'Monterrey'}, {'ID': 121, 'Años Consumo': 14, 'Edad': 30, 'Años Escuela': 16, 'Diagnóstico': 'Grave', 'Sexo': 'F', 'Gasto promedio\\xa0': 69.9, 'Clínica': 'Guadalajara'}, {'ID': 122, 'Años Consumo': 13, 'Edad': 36, 'Años Escuela': 14, 'Diagnóstico': 'Bueno', 'Sexo': 'M', 'Gasto promedio\\xa0': 70.11, 'Clínica': 'Monterrey'}, {'ID': 123, 'Años Consumo': 5, 'Edad': 37, 'Años Escuela': 10, 'Diagnóstico': 'Grave', 'Sexo': 'F', 'Gasto promedio\\xa0': 54.59, 'Clínica': 'CDMX'}, {'ID': 124, 'Años Consumo': 5, 'Edad': 28, 'Años Escuela': 7, 'Diagnóstico': 'Grave', 'Sexo': 'M', 'Gasto promedio\\xa0': 42.92, 'Clínica': 'CDMX'}, {'ID': 125, 'Años Consumo': 10, 'Edad': 39, 'Años Escuela': 12, 'Diagnóstico': 'Grave', 'Sexo': 'M', 'Gasto promedio\\xa0': 69.39, 'Clínica': 'Monterrey'}, {'ID': 126, 'Años Consumo': 6, 'Edad': 22, 'Años Escuela': 12, 'Diagnóstico': 'Bueno', 'Sexo': 'M', 'Gasto promedio\\xa0': 41.38, 'Clínica': 'Toluca'}, {'ID': 127, 'Años Consumo': 7, 'Edad': 44, 'Años Escuela': 7, 'Diagnóstico': 'Bueno', 'Sexo': 'M', 'Gasto promedio\\xa0': 69.7, 'Clínica': 'Monterrey'}, {'ID': 128, 'Años Consumo': 8, 'Edad': 54, 'Años Escuela': 7, 'Diagnóstico': 'Bueno', 'Sexo': 'M', 'Gasto promedio\\xa0': 80.12, 'Clínica': 'Chihuahua'}, {'ID': 129, 'Años Consumo': 8, 'Edad': 33, 'Años Escuela': 7, 'Diagnóstico': 'Grave', 'Sexo': 'M', 'Gasto promedio\\xa0': 57.59, 'Clínica': 'Chihuahua'}, {'ID': 130, 'Años Consumo': 12, 'Edad': 37, 'Años Escuela': 12, 'Diagnóstico': 'Bueno', 'Sexo': 'F', 'Gasto promedio\\xa0': 53.38, 'Clínica': 'Queretaro'}, {'ID': 131, 'Años Consumo': 11, 'Edad': 28, 'Años Escuela': 12, 'Diagnóstico': 'Bueno', 'Sexo': 'M', 'Gasto promedio\\xa0': 36.33, 'Clínica': 'Monterrey'}, {'ID': 132, 'Años Consumo': 8, 'Edad': 38, 'Años Escuela': 12, 'Diagnóstico': 'Grave', 'Sexo': 'F', 'Gasto promedio\\xa0': 47.75, 'Clínica': 'CDMX'}, {'ID': 133, 'Años Consumo': 13, 'Edad': 20, 'Años Escuela': 11, 'Diagnóstico': 'Bueno', 'Sexo': 'M', 'Gasto promedio\\xa0': 76.47, 'Clínica': 'Monterrey'}, {'ID': 134, 'Años Consumo': 9, 'Edad': 44, 'Años Escuela': 8, 'Diagnóstico': 'Bueno', 'Sexo': 'M', 'Gasto promedio\\xa0': 53.8, 'Clínica': 'Guadalajara'}]\n"
          ]
        }
      ]
    },
    {
      "cell_type": "code",
      "source": [
        "print(lista_diccionarios[61]['Edad']) #imprimimos un valor especifico para ver los resultados\n",
        "print(len(lista_diccionarios))"
      ],
      "metadata": {
        "colab": {
          "base_uri": "https://localhost:8080/"
        },
        "id": "MvojMwyEN2BE",
        "outputId": "2bd894e2-68aa-4d95-ba80-202fc1d60840"
      },
      "execution_count": 21,
      "outputs": [
        {
          "output_type": "stream",
          "name": "stdout",
          "text": [
            "50\n",
            "134\n"
          ]
        }
      ]
    },
    {
      "cell_type": "code",
      "source": [
        "media_años_consumo = np.mean([diccionario['Años Consumo'] for diccionario in lista_diccionarios])\n",
        "moda_años_consumo = np.argmax(np.bincount([diccionario['Años Consumo'] for diccionario in lista_diccionarios]))\n",
        "mediana_años_consumo = np.median([diccionario['Años Consumo'] for diccionario in lista_diccionarios])\n",
        "varianza_años_consumo = np.var([diccionario['Años Consumo'] for diccionario in lista_diccionarios])\n",
        "desviacion_años_consumo = np.std([diccionario['Años Consumo'] for diccionario in lista_diccionarios])\n",
        "primer_cuartil_años_consumo = np.percentile([diccionario['Años Consumo'] for diccionario in lista_diccionarios], 25)\n",
        "tercer_cuartil_años_consumo = np.percentile([diccionario['Años Consumo'] for diccionario in lista_diccionarios], 75)\n",
        "percentil_10_años_consumo = np.percentile([diccionario['Años Consumo'] for diccionario in lista_diccionarios], 10)\n",
        "percentil_90_años_consumo = np.percentile([diccionario['Años Consumo'] for diccionario in lista_diccionarios], 90)\n",
        "\n",
        "print(\"Media Años Consumo:\", media_años_consumo)\n",
        "print(\"Moda Años Consumo:\", moda_años_consumo)\n",
        "print(\"Mediana Años Consumo:\", mediana_años_consumo)\n",
        "print(\"Varianza Años Consumo:\", varianza_años_consumo)\n",
        "print(\"Desviación Años Consumo:\", desviacion_años_consumo)\n",
        "print(\"Primer Cuartil Años Consumo:\", primer_cuartil_años_consumo)\n",
        "print(\"Tercer Cuartil Años Consumo:\", tercer_cuartil_años_consumo)\n",
        "print(\"Percentil 10 Años Consumo:\", percentil_10_años_consumo)\n",
        "print(\"Percentil 90 Años Consumo:\", percentil_90_años_consumo)"
      ],
      "metadata": {
        "colab": {
          "base_uri": "https://localhost:8080/"
        },
        "id": "z_hs-BQzWdK1",
        "outputId": "57dbfff5-c981-466f-ec51-bd3de2da9022"
      },
      "execution_count": 29,
      "outputs": [
        {
          "output_type": "stream",
          "name": "stdout",
          "text": [
            "Media Años Consumo: 9.261194029850746\n",
            "Moda Años Consumo: 5\n",
            "Mediana Años Consumo: 9.0\n",
            "Varianza Años Consumo: 9.551180663844953\n",
            "Desviación Años Consumo: 3.090498449092792\n",
            "Primer Cuartil Años Consumo: 7.0\n",
            "Tercer Cuartil Años Consumo: 12.0\n",
            "Percentil 10 Años Consumo: 5.0\n",
            "Percentil 90 Años Consumo: 14.0\n"
          ]
        }
      ]
    },
    {
      "cell_type": "code",
      "source": [
        "media_edad = np.mean([diccionario['Edad'] for diccionario in lista_diccionarios])\n",
        "moda_edad = np.argmax(np.bincount([diccionario['Edad'] for diccionario in lista_diccionarios]))\n",
        "mediana_edad = np.median([diccionario['Edad'] for diccionario in lista_diccionarios])\n",
        "varianza_edad = np.var([diccionario['Edad'] for diccionario in lista_diccionarios])\n",
        "desviacion_edad = np.std([diccionario['Edad'] for diccionario in lista_diccionarios])\n",
        "primer_cuartil_edad = np.percentile([diccionario['Edad'] for diccionario in lista_diccionarios], 25)\n",
        "tercer_cuartil_edad = np.percentile([diccionario['Edad'] for diccionario in lista_diccionarios], 75)\n",
        "percentil_10_edad = np.percentile([diccionario['Edad'] for diccionario in lista_diccionarios], 10)\n",
        "percentil_90_edad = np.percentile([diccionario['Edad'] for diccionario in lista_diccionarios], 90)\n",
        "\n",
        "print(\"Media Edad:\", media_edad)\n",
        "print(\"Moda Edad:\", moda_edad)\n",
        "print(\"Mediana Edad:\", mediana_edad)\n",
        "print(\"Varianza Edad:\", varianza_edad)\n",
        "print(\"Desviación Edad:\", desviacion_edad)\n",
        "print(\"Primer Cuartil Edad:\", primer_cuartil_edad)\n",
        "print(\"Tercer Cuartil Edad:\", tercer_cuartil_edad)\n",
        "print(\"Percentil 10 Edad:\", percentil_10_edad)\n",
        "print(\"Percentil 90 Edad:\", percentil_90_edad)"
      ],
      "metadata": {
        "colab": {
          "base_uri": "https://localhost:8080/"
        },
        "id": "1Fde9zxJYQUL",
        "outputId": "2d78640d-9bbb-4e0a-ff21-7c22099782df"
      },
      "execution_count": 30,
      "outputs": [
        {
          "output_type": "stream",
          "name": "stdout",
          "text": [
            "Media Edad: 35.40298507462686\n",
            "Moda Edad: 28\n",
            "Mediana Edad: 36.5\n",
            "Varianza Edad: 80.4346179550011\n",
            "Desviación Edad: 8.968534883413295\n",
            "Primer Cuartil Edad: 28.0\n",
            "Tercer Cuartil Edad: 42.0\n",
            "Percentil 10 Edad: 23.3\n",
            "Percentil 90 Edad: 48.0\n"
          ]
        }
      ]
    },
    {
      "cell_type": "code",
      "source": [
        "media_años_escuela = np.mean([diccionario['Años Escuela'] for diccionario in lista_diccionarios])\n",
        "moda_años_escuela = np.argmax(np.bincount([diccionario['Años Escuela'] for diccionario in lista_diccionarios]))\n",
        "mediana_años_escuela = np.median([diccionario['Años Escuela'] for diccionario in lista_diccionarios])\n",
        "varianza_años_escuela = np.var([diccionario['Años Escuela'] for diccionario in lista_diccionarios])\n",
        "desviacion_años_escuela = np.std([diccionario['Años Escuela'] for diccionario in lista_diccionarios])\n",
        "primer_cuartil_años_escuela = np.percentile([diccionario['Años Escuela'] for diccionario in lista_diccionarios], 25)\n",
        "tercer_cuartil_años_escuela = np.percentile([diccionario['Años Escuela'] for diccionario in lista_diccionarios], 75)\n",
        "percentil_10_años_escuela = np.percentile([diccionario['Años Escuela'] for diccionario in lista_diccionarios], 10)\n",
        "percentil_90_años_escuela = np.percentile([diccionario['Años Escuela'] for diccionario in lista_diccionarios], 90)\n",
        "\n",
        "print(\"Media Años Escuela:\", media_años_escuela)\n",
        "print(\"Moda Años Escuela:\", moda_años_escuela)\n",
        "print(\"Mediana Años Escuela:\", mediana_años_escuela)\n",
        "print(\"Varianza Años Escuela:\", varianza_años_escuela)\n",
        "print(\"Desviación Años Escuela:\", desviacion_años_escuela)\n",
        "print(\"Primer Cuartil Años Escuela:\", primer_cuartil_años_escuela)\n",
        "print(\"Tercer Cuartil Años Escuela:\", tercer_cuartil_años_escuela)\n",
        "print(\"Percentil 10 Años Escuela:\", percentil_10_años_escuela)\n",
        "print(\"Percentil 90 Años Escuela:\", percentil_90_años_escuela)"
      ],
      "metadata": {
        "colab": {
          "base_uri": "https://localhost:8080/"
        },
        "id": "W4m-NKT1Y8V7",
        "outputId": "2b54e0ba-b450-4ef8-c0af-c0d68e9602b3"
      },
      "execution_count": 31,
      "outputs": [
        {
          "output_type": "stream",
          "name": "stdout",
          "text": [
            "Media Años Escuela: 11.08955223880597\n",
            "Moda Años Escuela: 12\n",
            "Mediana Años Escuela: 12.0\n",
            "Varianza Años Escuela: 6.633771441300957\n",
            "Desviación Años Escuela: 2.5756108870132066\n",
            "Primer Cuartil Años Escuela: 9.0\n",
            "Tercer Cuartil Años Escuela: 12.0\n",
            "Percentil 10 Años Escuela: 7.0\n",
            "Percentil 90 Años Escuela: 14.0\n"
          ]
        }
      ]
    },
    {
      "cell_type": "code",
      "source": [
        "media_gasto_promedio = np.mean([diccionario['Gasto promedio\\xa0'] for diccionario in lista_diccionarios])\n",
        "mediana_gasto_promedio = np.median([diccionario['Gasto promedio\\xa0'] for diccionario in lista_diccionarios])\n",
        "varianza_gasto_promedio = np.var([diccionario['Gasto promedio\\xa0'] for diccionario in lista_diccionarios])\n",
        "desviacion_gasto_promedio = np.std([diccionario['Gasto promedio\\xa0'] for diccionario in lista_diccionarios])\n",
        "primer_cuartil_gasto_promedio = np.percentile([diccionario['Gasto promedio\\xa0'] for diccionario in lista_diccionarios], 25)\n",
        "tercer_cuartil_gasto_promedio = np.percentile([diccionario['Gasto promedio\\xa0'] for diccionario in lista_diccionarios], 75)\n",
        "percentil_10_gasto_promedio = np.percentile([diccionario['Gasto promedio\\xa0'] for diccionario in lista_diccionarios], 10)\n",
        "percentil_90_gasto_promedio = np.percentile([diccionario['Gasto promedio\\xa0'] for diccionario in lista_diccionarios], 90)\n",
        "\n",
        "print(\"Media Gasto Promedio:\", media_gasto_promedio)\n",
        "print(\"Mediana Gasto Promedio:\", mediana_gasto_promedio)\n",
        "print(\"Varianza Gasto Promedio:\", varianza_gasto_promedio)\n",
        "print(\"Desviación Gasto Promedio:\", desviacion_gasto_promedio)\n",
        "print(\"Primer Cuartil Gasto Promedio:\", primer_cuartil_gasto_promedio)\n",
        "print(\"Tercer Cuartil Gasto Promedio:\", tercer_cuartil_gasto_promedio)\n",
        "print(\"Percentil 10 Gasto Promedio:\", percentil_10_gasto_promedio)\n",
        "print(\"Percentil 90 Gasto Promedio:\", percentil_90_gasto_promedio)\n"
      ],
      "metadata": {
        "colab": {
          "base_uri": "https://localhost:8080/"
        },
        "id": "ijNLiuh0Zxfb",
        "outputId": "5c7cb107-01ab-45d5-daa7-38ffa6236b3e"
      },
      "execution_count": 36,
      "outputs": [
        {
          "output_type": "stream",
          "name": "stdout",
          "text": [
            "Media Gasto Promedio: 1867.423432835821\n",
            "Mediana Gasto Promedio: 1697.34\n",
            "Varianza Gasto Promedio: 2422782.5147210513\n",
            "Desviación Gasto Promedio: 1556.528995785511\n",
            "Primer Cuartil Gasto Promedio: 86.02000000000001\n",
            "Tercer Cuartil Gasto Promedio: 3185.5625\n",
            "Percentil 10 Gasto Promedio: 54.037\n",
            "Percentil 90 Gasto Promedio: 4200.205\n"
          ]
        }
      ]
    }
  ]
}