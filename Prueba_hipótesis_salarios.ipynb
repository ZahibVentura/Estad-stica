{
  "nbformat": 4,
  "nbformat_minor": 0,
  "metadata": {
    "colab": {
      "provenance": [],
      "authorship_tag": "ABX9TyPFXnvKZkn1DycGTsm5qo6+",
      "include_colab_link": true
    },
    "kernelspec": {
      "name": "python3",
      "display_name": "Python 3"
    },
    "language_info": {
      "name": "python"
    }
  },
  "cells": [
    {
      "cell_type": "markdown",
      "metadata": {
        "id": "view-in-github",
        "colab_type": "text"
      },
      "source": [
        "<a href=\"https://colab.research.google.com/github/ZahibVentura/Estad-stica/blob/main/Prueba_hip%C3%B3tesis_salarios.ipynb\" target=\"_parent\"><img src=\"https://colab.research.google.com/assets/colab-badge.svg\" alt=\"Open In Colab\"/></a>"
      ]
    },
    {
      "cell_type": "code",
      "execution_count": 11,
      "metadata": {
        "colab": {
          "base_uri": "https://localhost:8080/"
        },
        "id": "Sa-iOpVgKZeI",
        "outputId": "fd61dcda-f7c7-46c0-96f9-3eb596faf63d"
      },
      "outputs": [
        {
          "output_type": "stream",
          "name": "stdout",
          "text": [
            "Media muestral: 20016.00\n",
            "Desviación estándar muestral: 278.66\n",
            "Estadístico t: 0.2871\n",
            "Valor p: 0.7765\n",
            "No se rechaza H0: no hay evidencia suficiente para decir que el salario promedio es diferente de $20,000.\n"
          ]
        }
      ],
      "source": [
        "\n",
        "import numpy as np\n",
        "from scipy import stats\n",
        "\n",
        "# Datos\n",
        "#salarios = [20400, 20000, 19850, 19700, 20100, 20500, 19650, 20000, 20200, 20150,\n",
        "#19750, 19950, 20600, 19800, 20250, 20050, 19600, 20300, 19850, 19900,\n",
        "#19800, 20200, 19950, 20050, 19700]\n",
        "salarios = [19800, 20200, 19900, 20300,19600, 20400, 20000, 19850, 19700, 20100, 20500, 19650, 20000, 20200, 20150, 19750, 19950, 20600, 19800, 20250, 20050, 19600, 20300, 19850, 19900]\n",
        "\n",
        "# Parámetro poblacional (Hipótesis nula)\n",
        "mu = 20000\n",
        "\n",
        "\n",
        "n = len(salarios)\n",
        "x_b = np.mean(salarios)\n",
        "\n",
        "\n",
        "S = np.std(salarios, ddof= 1)\n",
        "\n",
        "\n",
        "# Estadístico t\n",
        "t_stat = (x_b - mu)/(S/n**(1/2))\n",
        "\n",
        "\n",
        "df = n - 1\n",
        "# Valor p (prueba bilateral)\n",
        "p_value = 2 * stats.t.sf(np.abs(t_stat), df)\n",
        "\n",
        "# Mostrar resultados\n",
        "print(f\"Media muestral: {x_b:.2f}\")\n",
        "print(f\"Desviación estándar muestral: {S:.2f}\")\n",
        "print(f\"Estadístico t: {t_stat:.4f}\")\n",
        "print(f\"Valor p: {p_value:.4f}\")\n",
        "\n",
        "#Significancia\n",
        "alpha = 0.05\n",
        "\n",
        "# Conclusión\n",
        "if p_value < alpha:\n",
        "    print(\"Se rechaza H0: hay evidencia de que el salario promedio es diferente de $20,000.\")\n",
        "else:\n",
        "    print(\"No se rechaza H0: no hay evidencia suficiente para decir que el salario promedio es diferente de $20,000.\")"
      ]
    }
  ]
}